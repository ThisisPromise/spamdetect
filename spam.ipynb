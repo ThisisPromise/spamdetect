{
 "cells": [
  {
   "cell_type": "code",
   "execution_count": 1,
   "metadata": {},
   "outputs": [],
   "source": [
    "import numpy as np  \n",
    "import pandas as pd\n",
    "from sklearn.feature_extraction.text import CountVectorizer\n",
    "from sklearn.model_selection import train_test_split\n",
    "from sklearn.naive_bayes import BernoulliNB"
   ]
  },
  {
   "cell_type": "code",
   "execution_count": 2,
   "metadata": {},
   "outputs": [
    {
     "name": "stdout",
     "output_type": "stream",
     "text": [
      "                                COMMENT_ID              AUTHOR  \\\n",
      "154    z13zjbvbeszjcvdsx22ww5cgcrydzlf5u04             ROB YSF   \n",
      "230      z132fb4jenqfv5x2r23swfmiyrafyf5ue          johan gade   \n",
      "200    z13yeb25wmevhpg3s22chjtxoszvgxxxl04      funtimekid1199   \n",
      "260    z133tllzkmb0wthup235c5qovo3xzdzqr04    Wilfredo Latorre   \n",
      "80     z122f1fy5muwdxdxd04cexyxes3hh5hrifc              Squir3   \n",
      "93     z13xslra3myri3jsn22hs1wxbyuvxplr004    Arianna Leighton   \n",
      "330    z12oex5p1miewvugp04cgjfqiq3xsxrolhk        Caius Ballad   \n",
      "316    z12jeraoczqvvbkmz23hsbcptweedlrxx04  BIGMOFO Tonkatruck   \n",
      "55       z13hxl3yoqmlvdlnu23atlqgsoyevlsse               Artsi   \n",
      "204  z121eftbimqgy1p5504cjx24tpvbjrpisnc0k        sagar basnet   \n",
      "158    z13zhhualofpyz22z22pydei0oeyt5abc04             unknown   \n",
      "315    z12ig3jrnlfvsthaa04chjkrply5zligbdg             Aaa Aaa   \n",
      "116  z135f3rwwnjafnnrv04cirmifl3lipewgl40k            Akymonix   \n",
      "29   z13zvh1rmk3cf3mby04civbq5mjtddmbysk0k       Fun&amp;Hacks   \n",
      "276      z12wz33h0vbdcdel022hu3npdufjjx2mv       Kelsey bolley   \n",
      "\n",
      "                    DATE                                            CONTENT  \\\n",
      "154  2014-11-06T09:15:12  reminds me of this song https://soundcloud.com...   \n",
      "230  2014-11-07T21:06:36  ''Little Psy, only 5 months left.. Tumor in th...   \n",
      "200  2014-11-07T14:11:41  http://www.twitch.tv/tareko100 Follow him on t...   \n",
      "260  2014-11-08T04:02:29  Hey I think I know what where dealing with her...   \n",
      "80   2014-11-02T18:34:03    http://woobox.com/33gxrf/brt0u5 FREE CS GO!!!!﻿   \n",
      "93   2014-11-03T23:02:47  Does anyone here use gift cards like Amazon, i...   \n",
      "330  2014-11-13T00:58:20  imagine if this guy put adsense on with all th...   \n",
      "316  2014-11-12T06:26:42                 just came to check the view count﻿   \n",
      "55   2014-01-20T18:52:12  Pls follow this channel!! http://www.twitch.tv...   \n",
      "204  2014-11-07T15:31:25    The population of world is more than 7 billion﻿   \n",
      "158  2014-11-06T14:50:18  😫😓😏😪😔😖😌😭😎😚😘😙😗😋😝😜😛😍😒😞😷😶😵😳😲😱😟😰😩😨😧😦😥😤😣😮😴😢😡😠😬😕😑😐😯😉...   \n",
      "315  2014-11-12T05:46:27  PLEASE SUBSCRIBE ME!!!!!!!!!!!!!!!!!!!!!!!!!!!...   \n",
      "116  2014-11-05T07:01:34                                 Made in china....﻿   \n",
      "29   2014-01-19T00:42:35   Subscribe to me for free Android games, apps.. ﻿   \n",
      "276  2014-11-08T07:25:39  Wow this video is the most viewed youtube vide...   \n",
      "\n",
      "     CLASS  \n",
      "154      1  \n",
      "230      0  \n",
      "200      1  \n",
      "260      0  \n",
      "80       1  \n",
      "93       1  \n",
      "330      0  \n",
      "316      0  \n",
      "55       1  \n",
      "204      0  \n",
      "158      0  \n",
      "315      1  \n",
      "116      0  \n",
      "29       1  \n",
      "276      0  \n"
     ]
    }
   ],
   "source": [
    "data = pd.read_csv(\"Youtube01-Psy.csv\")\n",
    "print(data.sample(15))"
   ]
  },
  {
   "cell_type": "code",
   "execution_count": 3,
   "metadata": {},
   "outputs": [
    {
     "name": "stdout",
     "output_type": "stream",
     "text": [
      "                                               CONTENT  CLASS\n",
      "269  1 millioon dislikessssssssssssssssssssssssssss...      0\n",
      "329  FOLLOW MY COMPANY ON TWITTER  thanks.  https:/...      1\n",
      "128  Discover a beautiful song of A young Moroccan ...      1\n",
      "166  please like : http://www.bubblews.com/news/927...      1\n",
      "288  if i reach 100 subscribers i will go round in ...      1\n",
      "66                                         psy=korean﻿      0\n",
      "85   PSY - GANGNAM STYLE (강남스타일) M/V: http://youtu....      0\n",
      "255  With the korean girl more slut and bitch : Hyu...      0\n",
      "4              watch?v=vtaRGgvGtWQ   Check this out .﻿      1\n",
      "163                         I found out this song now﻿      0\n",
      "167  hey again if you guys wouldnt mind chacking ou...      1\n",
      "143  Add me here...https://www.facebook.com/TLouXmu...      1\n",
      "23                            just checking the views﻿      0\n",
      "187           I'm here to check the views.. holy shit﻿      0\n",
      "138                https://www.tsu.co/KodysMan plz ^^﻿      1\n"
     ]
    }
   ],
   "source": [
    "data = data[[\"CONTENT\", \"CLASS\"]]\n",
    "print(data.sample(15))"
   ]
  },
  {
   "cell_type": "code",
   "execution_count": 4,
   "metadata": {},
   "outputs": [
    {
     "name": "stdout",
     "output_type": "stream",
     "text": [
      "                                               CONTENT         CLASS\n",
      "236                             this comment is wrong﻿      Not Spam\n",
      "15   Hello! Do you like gaming, art videos, scienti...  Spam Comment\n",
      "330  imagine if this guy put adsense on with all th...      Not Spam\n",
      "1    Hey guys check out my new channel and our firs...  Spam Comment\n",
      "105      Sub to my channel visuelgamingzNL I sub back﻿  Spam Comment\n",
      "103  Screw this Chinese crap i dont even understand...      Not Spam\n",
      "131  PSY GOT LOTS  OF MONEY FROM YOUTUBE THAT HE GO...      Not Spam\n",
      "183  The funny thing is, 1,700,000,000 of the views...      Not Spam\n",
      "41   if you like roblox minecraft world of warcraft...  Spam Comment\n",
      "228  Like if you came here too see how many views t...      Not Spam\n",
      "134                              ❤️ ❤️ ❤️ ❤️ ❤️❤️❤️❤️﻿      Not Spam\n",
      "264  If you pause at 1:39 at the last millisecond y...      Not Spam\n",
      "169  The most watched video on YouTube is Psy’s “Ga...      Not Spam\n",
      "113                               gofundme.com/grwmps﻿  Spam Comment\n",
      "61     The first comment is chuck norrus ovbiously :D﻿      Not Spam\n"
     ]
    }
   ],
   "source": [
    "data[\"CLASS\"] = data[\"CLASS\"].map({0: \"Not Spam\", 1: \"Spam Comment\"})\n",
    "print(data.sample(15))"
   ]
  },
  {
   "cell_type": "code",
   "execution_count": 5,
   "metadata": {},
   "outputs": [],
   "source": [
    "X = np.array(data[\"CONTENT\"])\n",
    "y = np.array(data[\"CLASS\"])\n",
    "\n",
    "cv = CountVectorizer()\n",
    "X = cv.fit_transform(X)\n",
    "\n",
    "X_train, X_test, y_train, y_test = train_test_split(X, y, test_size = 0.2, random_state=42)"
   ]
  },
  {
   "cell_type": "code",
   "execution_count": 6,
   "metadata": {},
   "outputs": [
    {
     "name": "stdout",
     "output_type": "stream",
     "text": [
      "0.9857142857142858\n"
     ]
    }
   ],
   "source": [
    "model = BernoulliNB()\n",
    "\n",
    "model.fit(X_train, y_train)\n",
    "print(model.score(X_test, y_test))"
   ]
  },
  {
   "cell_type": "code",
   "execution_count": 7,
   "metadata": {},
   "outputs": [
    {
     "name": "stdout",
     "output_type": "stream",
     "text": [
      "['Spam Comment']\n"
     ]
    }
   ],
   "source": [
    "sample = \"I met Mr Great and since then my life has changed. Meet him too and invest $10000 using this link t.me/+13425678489\" \n",
    "data = cv.transform([sample]).toarray()\n",
    "print(model.predict(data))"
   ]
  },
  {
   "cell_type": "code",
   "execution_count": 8,
   "metadata": {},
   "outputs": [
    {
     "name": "stdout",
     "output_type": "stream",
     "text": [
      "['Not Spam']\n"
     ]
    }
   ],
   "source": [
    "sample = \"Super helpful thank you!\" \n",
    "data = cv.transform([sample]).toarray()\n",
    "print(model.predict(data))"
   ]
  }
 ],
 "metadata": {
  "kernelspec": {
   "display_name": "Python 3",
   "language": "python",
   "name": "python3"
  },
  "language_info": {
   "codemirror_mode": {
    "name": "ipython",
    "version": 3
   },
   "file_extension": ".py",
   "mimetype": "text/x-python",
   "name": "python",
   "nbconvert_exporter": "python",
   "pygments_lexer": "ipython3",
   "version": "3.12.3"
  }
 },
 "nbformat": 4,
 "nbformat_minor": 2
}
